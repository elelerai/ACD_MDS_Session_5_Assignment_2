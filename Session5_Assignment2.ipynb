{
 "cells": [
  {
   "cell_type": "code",
   "execution_count": 24,
   "metadata": {},
   "outputs": [],
   "source": [
    "import sqlite3\n",
    "db = sqlite3.connect(\"Indo_America2.db\")"
   ]
  },
  {
   "cell_type": "code",
   "execution_count": 25,
   "metadata": {},
   "outputs": [
    {
     "data": {
      "text/plain": [
       "<sqlite3.Cursor at 0x31dc28d960>"
      ]
     },
     "execution_count": 25,
     "metadata": {},
     "output_type": "execute_result"
    }
   ],
   "source": [
    "# Drop table if it already exist using execute() method.\n",
    "db.execute(\"drop table if exists indoamerica_game\")\n",
    "# Create table as per requirement\n",
    "db.execute(\"create table indoamerica_game(sub text, verb text, obj text)\")\n",
    "#inserting values inside the created table\n",
    "db.execute(\"insert into indoamerica_game(sub, verb, obj) values('Americans','play','Baseball' )\")\n",
    "db.execute(\"insert into indoamerica_game(sub, verb, obj) values('Americans','play','Cricket' )\")\n",
    "db.execute(\"insert into indoamerica_game(sub, verb, obj) values('Americans', 'watch', 'Baseball' )\")\n",
    "db.execute(\"insert into indoamerica_game(sub, verb, obj) values('Americans', 'watch', 'Cricket' )\")\n",
    "db.execute(\"insert into indoamerica_game(sub, verb, obj) values('Indians',   'play', 'Baseball' )\")\n",
    "db.execute(\"insert into indoamerica_game(sub, verb, obj) values('Indians',    'play', 'Cricket' )\")\n",
    "db.execute(\"insert into indoamerica_game(sub, verb, obj) values('Indians',    'watch', 'Baseball' )\")\n",
    "db.execute(\"insert into indoamerica_game(sub, verb, obj) values('Indians',   'watch', 'Cricket' )\")\n",
    "\n",
    "\n"
   ]
  },
  {
   "cell_type": "code",
   "execution_count": 26,
   "metadata": {},
   "outputs": [],
   "source": [
    "db.commit()"
   ]
  },
  {
   "cell_type": "code",
   "execution_count": 40,
   "metadata": {},
   "outputs": [
    {
     "name": "stdout",
     "output_type": "stream",
     "text": [
      "('Americans', 'play', 'Baseball')\n",
      "('Americans', 'play', 'Cricket')\n",
      "('Americans', 'watch', 'Baseball')\n",
      "('Americans', 'watch', 'Cricket')\n",
      "('Indians', 'play', 'Baseball')\n",
      "('Indians', 'play', 'Cricket')\n",
      "('Indians', 'watch', 'Baseball')\n",
      "('Indians', 'watch', 'Cricket')\n"
     ]
    }
   ],
   "source": [
    "game_results = db.execute(\"select * from indoamerica_game order by sub\")\n",
    "for row in results:\n",
    "    print(row)"
   ]
  },
  {
   "cell_type": "code",
   "execution_count": null,
   "metadata": {},
   "outputs": [],
   "source": []
  }
 ],
 "metadata": {
  "kernelspec": {
   "display_name": "Python 3",
   "language": "python",
   "name": "python3"
  },
  "language_info": {
   "codemirror_mode": {
    "name": "ipython",
    "version": 3
   },
   "file_extension": ".py",
   "mimetype": "text/x-python",
   "name": "python",
   "nbconvert_exporter": "python",
   "pygments_lexer": "ipython3",
   "version": "3.6.4"
  }
 },
 "nbformat": 4,
 "nbformat_minor": 2
}
